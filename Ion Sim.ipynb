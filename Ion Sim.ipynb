{
 "cells": [
  {
   "cell_type": "code",
   "execution_count": 3,
   "metadata": {
    "ExecuteTime": {
     "end_time": "2017-08-09T23:20:41.964871Z",
     "start_time": "2017-08-09T23:20:41.956995Z"
    },
    "collapsed": true
   },
   "outputs": [],
   "source": [
    "%matplotlib inline\n",
    "import ionsim\n",
    "from scipy.constants import *\n",
    "import numpy as np\n",
    "import matplotlib.pyplot as plt\n",
    "from matplotlib import rc, rcParams\n",
    "from ipywidgets import interact\n",
    "\n",
    "rcParams['mathtext.fontset'] = 'stix'\n",
    "rcParams['font.family'] = 'STIXGeneral'\n",
    "rcParams['figure.figsize'] = (8.0,6.0)\n",
    "rcParams['font.size'] = 14\n",
    "rcParams['axes.labelsize'] = 18\n",
    "rc('animation', html='html5')"
   ]
  },
  {
   "cell_type": "code",
   "execution_count": 21,
   "metadata": {
    "ExecuteTime": {
     "end_time": "2017-08-09T22:33:51.527077Z",
     "start_time": "2017-08-09T22:33:49.886784Z"
    }
   },
   "outputs": [
    {
     "data": {
      "application/vnd.jupyter.widget-view+json": {
       "model_id": "0ea63552656a4540af2395ba7416bd66"
      }
     },
     "metadata": {},
     "output_type": "display_data"
    }
   ],
   "source": [
    "class example1(ionsim.IonSim):\n",
    "    def U(self, t, x, y, z):\n",
    "        self.fx = 1e6\n",
    "        self.fy = 2e6\n",
    "        self.fz = 3e6\n",
    "        Ux = (1/2) * self.m * (2*pi*self.fx)**2 * x**2\n",
    "        Uy = (1/2) * self.m * (2*pi*self.fy)**2 * y**2\n",
    "        Uz = (1/2) * self.m * (2*pi*self.fz)**2 * z**2\n",
    "        return Ux + Uy + Uz\n",
    "    \n",
    "ex1 = example1()\n",
    "ex1.m = 40 * atomic_mass\n",
    "ex1.gamma = ex1.m * 1e6 * np.array([1, 1, 1])\n",
    "ex1.init_thermal(n=1, T=1e-3, sigma=(1e-6, 1e-6, 1e-6))\n",
    "t = np.linspace(0, 20e-6, 200)\n",
    "ex1.run(t)\n",
    "@interact(i=(0,2))\n",
    "def ex1_normal_modes(i=0):\n",
    "    ionsim.plot_normal_modes(ex1, i, surface=False)"
   ]
  },
  {
   "cell_type": "code",
   "execution_count": 23,
   "metadata": {
    "ExecuteTime": {
     "end_time": "2017-08-09T22:36:27.804423Z",
     "start_time": "2017-08-09T22:36:15.612353Z"
    }
   },
   "outputs": [
    {
     "data": {
      "application/vnd.jupyter.widget-view+json": {
       "model_id": "edd85271c0d94c4bae4ca504ba288c26"
      }
     },
     "metadata": {},
     "output_type": "display_data"
    }
   ],
   "source": [
    "class example2(ionsim.IonSim):\n",
    "    def U(self, t, x, y, z):\n",
    "        self.fx = 1e6\n",
    "        self.fy = 1e6\n",
    "        self.fz = 10e6\n",
    "        Ux = (1/2) * self.m * (2*pi*self.fx)**2 * x**2\n",
    "        Uy = (1/2) * self.m * (2*pi*self.fy)**2 * y**2\n",
    "        Uz = (1/2) * self.m * (2*pi*self.fz)**2 * z**2\n",
    "        return Ux + Uy + Uz\n",
    "    \n",
    "ex2 = example2()\n",
    "ex2.m = 40 * atomic_mass\n",
    "ex2.gamma = ex1.m * 1e6 * np.array([1, 1, 1])\n",
    "ex2.init_thermal(n=50, T=1e-3, sigma=(1e-6, 1e-6, 1e-6))\n",
    "t = np.linspace(0, 20e-6, 200)\n",
    "ex2.run(t)\n",
    "\n",
    "ionsim.plot(ex2)\n",
    "ionsim.animate(ex2)\n",
    "@interact(i=(0,149))\n",
    "def ex1_normal_modes(i=0):\n",
    "    ionsim.plot_normal_modes(ex2, i, surface=False)"
   ]
  },
  {
   "cell_type": "code",
   "execution_count": 33,
   "metadata": {
    "ExecuteTime": {
     "end_time": "2017-08-09T22:47:07.511392Z",
     "start_time": "2017-08-09T22:46:55.461920Z"
    }
   },
   "outputs": [
    {
     "name": "stderr",
     "output_type": "stream",
     "text": [
      "/scratch/python36/lib/python3.6/site-packages/scipy/integrate/_ode.py:1035: UserWarning: dopri5: larger nmax is needed\n",
      "  self.messages.get(idid, 'Unexpected idid=%s' % idid))\n"
     ]
    },
    {
     "data": {
      "application/vnd.jupyter.widget-view+json": {
       "model_id": "1674a53c281d43c097a6527230b4764f"
      }
     },
     "metadata": {},
     "output_type": "display_data"
    }
   ],
   "source": [
    "class example3(ionsim.IonSim):\n",
    "    def U(self, t, x, y, z):\n",
    "        self.fx = 1e6\n",
    "        self.fy = 10e6\n",
    "        self.fz = 10e6\n",
    "        Ux = (1/2) * self.m * (2*pi*self.fx)**2 * x**2\n",
    "        Uy = (1/2) * self.m * (2*pi*self.fy)**2 * y**2\n",
    "        Uz = (1/2) * self.m * (2*pi*self.fz)**2 * z**2\n",
    "        return Ux + Uy + Uz\n",
    "    \n",
    "ex3 = example3()\n",
    "ex3.m = np.array([9, 40, 40, 9]) * atomic_mass\n",
    "ex3.gamma = ex1.m * 1e6 * np.array([1, 1, 1])\n",
    "ex3.init_thermal(n=4, T=10e-3, sigma=(1e-6, 1e-6, 1e-6))\n",
    "t = np.linspace(0, 20e-6, 200)\n",
    "ex3.run(t)\n",
    "\n",
    "# ionsim.plot(ex3)\n",
    "# ionsim.animate(ex3)\n",
    "@interact(i=(0,11))\n",
    "def ex3_normal_modes(i=0):\n",
    "    ionsim.plot_normal_modes(ex3, i, surface=False)"
   ]
  },
  {
   "cell_type": "code",
   "execution_count": 19,
   "metadata": {
    "ExecuteTime": {
     "end_time": "2017-08-09T23:24:06.230959Z",
     "start_time": "2017-08-09T23:24:02.710917Z"
    }
   },
   "outputs": [
    {
     "data": {
      "image/png": "[encoded data removed]",
      "text/plain": [
       "<matplotlib.figure.Figure at 0x7efc80f57da0>"
      ]
     },
     "metadata": {},
     "output_type": "display_data"
    }
   ],
   "source": [
    "class example4(ionsim.IonSim):\n",
    "    def U(self, t, x, y, z):\n",
    "        m = self.m / atomic_mass\n",
    "        Ux = (1/2)*self.m*(1e6*np.sqrt(2584/m))**2*x**2\n",
    "        Uy = (1/2)*self.m*(1e6*np.sqrt(323679/m**2 + 8525/m))**2*y**2\n",
    "        Uz = (1/2)*self.m*(1e6*np.sqrt(580227/m**2 - 11064/m))**2*z**2\n",
    "        return Ux + Uy + Uz\n",
    "    \n",
    "ex4 = example4()\n",
    "ex4.gamma = 24 * atomic_mass * 2e6 * np.array([1, 1, 1])\n",
    "ex4.init_thermal(n=2, T=5e-3, sigma=(5e-6, 5e-6, 5e-6))\n",
    "ex4.m = np.array([9, 24]) * atomic_mass\n",
    "t = np.linspace(0, 10e-6, 100)\n",
    "ex4.run(t)\n",
    "ionsim.plot(ex4, dim=0)\n",
    "# plt.ylabel('X (m)');"
   ]
  },
  {
   "cell_type": "code",
   "execution_count": 30,
   "metadata": {
    "ExecuteTime": {
     "end_time": "2017-08-09T23:52:20.219558Z",
     "start_time": "2017-08-09T23:52:20.037301Z"
    }
   },
   "outputs": [
    {
     "data": {
      "image/png": "[encoded data removed]",
      "text/plain": [
       "<matplotlib.figure.Figure at 0x7efc60ec5a58>"
      ]
     },
     "metadata": {},
     "output_type": "display_data"
    }
   ],
   "source": [
    "ionsim.plot_normal_modes(ex4, scale=4, i=2, surface=False)"
   ]
  },
  {
   "cell_type": "code",
   "execution_count": null,
   "metadata": {
    "collapsed": true
   },
   "outputs": [],
   "source": []
  }
 ],
 "metadata": {
  "kernelspec": {
   "display_name": "Python 3.6 (graum)",
   "language": "python",
   "name": "python36-kernel"
  },
  "notify_time": "5",
  "widgets": {
   "application/vnd.jupyter.widget-state+json": {
    "state": {
     "010805ee9c834dc6aaa80ea1e5bc17f4": {
      "model_module": "jupyter-js-widgets",
      "model_module_version": "~2.1.4",
      "model_name": "IntSliderModel",
      "state": {
       "_model_module_version": "~2.1.4",
       "_view_module_version": "~2.1.4",
       "description": "normal_mode",
       "layout": "IPY_MODEL_b387253d44274ac484760f33a457491c",
       "max": 14,
       "style": "IPY_MODEL_17e33d46da164f88bfdd05e1dd3ceeab"
      }
     },
     "0a2e571ead5e46919ccd7c5fda63c2aa": {
      "model_module": "jupyter-js-widgets",
      "model_module_version": "~2.1.4",
      "model_name": "LayoutModel",
      "state": {
       "_model_module_version": "~2.1.4",
       "_view_module_version": "~2.1.4"
      }
     },
     "144fc6655c76415f89c5668c158e9c38": {
      "model_module": "jupyter-js-widgets",
      "model_module_version": "~2.1.4",
      "model_name": "OutputModel",
      "state": {
       "_dom_classes": [],
       "_model_module": "jupyter-js-widgets",
       "_model_module_version": "~2.1.4",
       "_view_module": "jupyter-js-widgets",
       "_view_module_version": "~2.1.4",
       "layout": "IPY_MODEL_a64a5fac9b5243838f77d56d9c45adfd",
       "msg_throttle": 1
      }
     },
     "17e33d46da164f88bfdd05e1dd3ceeab": {
      "model_module": "jupyter-js-widgets",
      "model_module_version": "~2.1.4",
      "model_name": "SliderStyleModel",
      "state": {
       "_model_module_version": "~2.1.4",
       "_view_module_version": "~2.1.4"
      }
     },
     "230c117bc9a84d3a8c87f035b663de9f": {
      "model_module": "jupyter-js-widgets",
      "model_module_version": "~2.1.4",
      "model_name": "VBoxModel",
      "state": {
       "_dom_classes": [
        "widget-interact"
       ],
       "_model_module_version": "~2.1.4",
       "_view_module_version": "~2.1.4",
       "children": [
        "IPY_MODEL_c455ad47915a4a9b9ae74a5e848befd9",
        "IPY_MODEL_144fc6655c76415f89c5668c158e9c38"
       ],
       "layout": "IPY_MODEL_3a796101596e40fa9b0eb985ce0bfe4f"
      }
     },
     "3a796101596e40fa9b0eb985ce0bfe4f": {
      "model_module": "jupyter-js-widgets",
      "model_module_version": "~2.1.4",
      "model_name": "LayoutModel",
      "state": {
       "_model_module_version": "~2.1.4",
       "_view_module_version": "~2.1.4"
      }
     },
     "6944330aed764b369c9f919ad12ac7ab": {
      "model_module": "jupyter-js-widgets",
      "model_module_version": "~2.1.4",
      "model_name": "LayoutModel",
      "state": {
       "_model_module_version": "~2.1.4",
       "_view_module_version": "~2.1.4"
      }
     },
     "8faedcd540af475ba047dc1a08b9cfa1": {
      "model_module": "jupyter-js-widgets",
      "model_module_version": "~2.1.4",
      "model_name": "LayoutModel",
      "state": {
       "_model_module_version": "~2.1.4",
       "_view_module_version": "~2.1.4"
      }
     },
     "a64a5fac9b5243838f77d56d9c45adfd": {
      "model_module": "jupyter-js-widgets",
      "model_module_version": "~2.1.4",
      "model_name": "LayoutModel",
      "state": {
       "_model_module_version": "~2.1.4",
       "_view_module_version": "~2.1.4"
      }
     },
     "b387253d44274ac484760f33a457491c": {
      "model_module": "jupyter-js-widgets",
      "model_module_version": "~2.1.4",
      "model_name": "LayoutModel",
      "state": {
       "_model_module_version": "~2.1.4",
       "_view_module_version": "~2.1.4"
      }
     },
     "b8e5f6d7de5d48789484ccca6ad01137": {
      "model_module": "jupyter-js-widgets",
      "model_module_version": "~2.1.4",
      "model_name": "SliderStyleModel",
      "state": {
       "_model_module_version": "~2.1.4",
       "_view_module_version": "~2.1.4"
      }
     },
     "c455ad47915a4a9b9ae74a5e848befd9": {
      "model_module": "jupyter-js-widgets",
      "model_module_version": "~2.1.4",
      "model_name": "IntSliderModel",
      "state": {
       "_model_module_version": "~2.1.4",
       "_view_module_version": "~2.1.4",
       "description": "normal_mode",
       "layout": "IPY_MODEL_0a2e571ead5e46919ccd7c5fda63c2aa",
       "max": 149,
       "style": "IPY_MODEL_b8e5f6d7de5d48789484ccca6ad01137",
       "value": 149
      }
     },
     "cade1b37c1824191b90b0fc6d38665e8": {
      "model_module": "jupyter-js-widgets",
      "model_module_version": "~2.1.4",
      "model_name": "OutputModel",
      "state": {
       "_dom_classes": [],
       "_model_module": "jupyter-js-widgets",
       "_model_module_version": "~2.1.4",
       "_view_module": "jupyter-js-widgets",
       "_view_module_version": "~2.1.4",
       "layout": "IPY_MODEL_8faedcd540af475ba047dc1a08b9cfa1",
       "msg_throttle": 1
      }
     },
     "f9b46e5725834829b0a509b2786d7274": {
      "model_module": "jupyter-js-widgets",
      "model_module_version": "~2.1.4",
      "model_name": "VBoxModel",
      "state": {
       "_dom_classes": [
        "widget-interact"
       ],
       "_model_module_version": "~2.1.4",
       "_view_module_version": "~2.1.4",
       "children": [
        "IPY_MODEL_010805ee9c834dc6aaa80ea1e5bc17f4",
        "IPY_MODEL_cade1b37c1824191b90b0fc6d38665e8"
       ],
       "layout": "IPY_MODEL_6944330aed764b369c9f919ad12ac7ab"
      }
     }
    },
    "version_major": 1,
    "version_minor": 0
   }
  }
 },
 "nbformat": 4,
 "nbformat_minor": 2
}
