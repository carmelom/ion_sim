{
 "cells": [
  {
   "cell_type": "markdown",
   "id": "governmental-monroe",
   "metadata": {},
   "source": [
    "# [Quantum dynamics of cold trapped ions with application to quantum computation](https://doi.org/10.1007/s003400050373)\n",
    "D.F.V. James, Appl. Phys. B **66**, 181–190 (1998)"
   ]
  },
  {
   "cell_type": "code",
   "execution_count": 1,
   "id": "completed-fluid",
   "metadata": {
    "ExecuteTime": {
     "end_time": "2021-03-29T15:48:15.935714Z",
     "start_time": "2021-03-29T15:48:15.558734Z"
    }
   },
   "outputs": [],
   "source": [
    "import numpy as np\n",
    "import matplotlib.pyplot as plt\n",
    "from ion_sim import IonSim, init\n",
    "from pint import UnitRegistry\n",
    "from math import pi as π\n",
    "\n",
    "u = UnitRegistry()"
   ]
  },
  {
   "cell_type": "code",
   "execution_count": 2,
   "id": "satisfactory-enzyme",
   "metadata": {
    "ExecuteTime": {
     "end_time": "2021-03-29T15:48:16.579977Z",
     "start_time": "2021-03-29T15:48:16.574692Z"
    }
   },
   "outputs": [],
   "source": [
    "m = u('40 amu')\n",
    "q = u('e')\n",
    "ωx = 2*π * u('1 MHz')\n",
    "ωy = 2*π * u('10 MHz')\n",
    "ωz = 2*π * u('10 MHz')\n",
    "l = ((q**2/(4*π*u.ε_0 * m * ωx**2))**(1/3)).to_base_units()\n",
    "\n",
    "class example(IonSim):\n",
    "    def U(self, x, y, z, t):\n",
    "        m = self.m\n",
    "        Ux = (1/2) * m * ωx**2 * x**2\n",
    "        Uy = (1/2) * m * ωy**2 * y**2\n",
    "        Uz = (1/2) * m * ωz**2 * z**2\n",
    "        return (Ux + Uy + Uz).to_base_units().m"
   ]
  },
  {
   "attachments": {},
   "cell_type": "markdown",
   "id": "asian-racing",
   "metadata": {},
   "source": [
    "## Table 1\n",
    "Scaled equilibrium position of the trapped ions for different total number of ions.\n",
    "![iTable 1](images/dfjames_table1.png)\n",
    "This is obtained by the numerical solutions of\n",
    "$$\n",
    "u_m - \\sum_{n=1}^{m-1}\\frac{1}{(u_m-u_n)^2} + \\sum_{n=m+1}^N \\frac{1}{(u_m-u_n)^2} = 0.\n",
    "$$\n",
    "The length scale is given by\n",
    "$$\n",
    "l^3 = \\frac{Z^2 e^2}{4\\pi\\epsilon_0M\\nu^2}\n",
    "$$"
   ]
  },
  {
   "cell_type": "code",
   "execution_count": 3,
   "id": "prescribed-delivery",
   "metadata": {
    "ExecuteTime": {
     "end_time": "2021-03-29T15:48:19.220836Z",
     "start_time": "2021-03-29T15:48:18.046704Z"
    }
   },
   "outputs": [
    {
     "name": "stdout",
     "output_type": "stream",
     "text": [
      "N                                        Scaled equilibrium positions                                    \n",
      "2                                              -0.63      0.63                                           \n",
      "3                                        -1.0772     0.0      1.0772                                     \n",
      "4                                   -1.4368   -0.4544    0.4544    1.4368                                \n",
      "5                              -1.7429   -0.8221     -0.0     0.8221    1.7429                           \n",
      "6                         -2.0123   -1.1361   -0.3699    0.3699    1.1361    2.0123                      \n",
      "7                    -2.2545   -1.4129   -0.6869     -0.0     0.6869    1.4129    2.2545                 \n",
      "8               -2.4758   -1.6621    -0.967    -0.318    0.318     0.967     1.6621    2.4758            \n",
      "9          -2.6803   -1.8897   -1.2195   -0.5996     -0.0     0.5996    1.2195    1.8897    2.6803       \n",
      "10    -2.8708   -2.1001   -1.4503   -0.8538   -0.2823    0.2823    0.8538    1.4503    2.1001    2.8708  \n"
     ]
    }
   ],
   "source": [
    "ex = example(u)\n",
    "print(f'{\"N\":<4} {\"Scaled equilibrium positions\":^100}')\n",
    "for N in range(2,11):\n",
    "    ex.m = m * np.ones(N)\n",
    "    ex.x0 = init.string(ex, dx=l)\n",
    "    positions = np.around(np.sort((ex.equilibrium_position() / l).to('dimensionless').m[0,:]), 4)\n",
    "    pos_str = ('{:^10}'*N).format(*positions)\n",
    "    print(f'{N:<4} {pos_str:^100}')"
   ]
  },
  {
   "attachments": {},
   "cell_type": "markdown",
   "id": "color-subscription",
   "metadata": {},
   "source": [
    "## Figure 2\n",
    "The relationship between the number of trapped ions N and the minimum separation. The curve is given by\n",
    "$$\n",
    "u_\\text{min}(N) \\approx \\frac{2.018}{N^0.559},\n",
    "$$\n",
    "while the points come from the numerical solutions of the the algebraic equation\n",
    "$$\n",
    "u_m - \\sum_{n=1}^{m-1}\\frac{1}{(u_m-u_n)^2} + \\sum_{n=m+1}^N \\frac{1}{(u_m-u_n)^2} = 0.\n",
    "$$\n",
    "![Figure 2](images/dfjames_fig2.png)"
   ]
  },
  {
   "cell_type": "code",
   "execution_count": 4,
   "id": "molecular-syntax",
   "metadata": {
    "ExecuteTime": {
     "end_time": "2021-03-29T15:48:55.904954Z",
     "start_time": "2021-03-29T15:48:21.175304Z"
    }
   },
   "outputs": [
    {
     "data": {
      "image/png": "[encoded data removed]",
      "text/plain": [
       "<Figure size 576x360 with 1 Axes>"
      ]
     },
     "metadata": {
      "needs_background": "light"
     },
     "output_type": "display_data"
    }
   ],
   "source": [
    "ex = example(u)\n",
    "def minimum_separation(N):\n",
    "    ex.m = m * np.ones(N)\n",
    "    ex.x0 = init.string(ex, dx=l)\n",
    "    return np.min(np.diff(np.sort((ex.equilibrium_position() / l).to('dimensionless').m[0,:])))\n",
    "\n",
    "N = np.arange(3,50+1)\n",
    "y = [minimum_separation(n) for n in N] # takes about 75 seconds to run\n",
    "u_min = 2.018/N**0.559\n",
    "\n",
    "plt.figure(figsize=(8,5))\n",
    "plt.plot(N,u_min)\n",
    "plt.plot(N,y, 'k.')\n",
    "plt.xlabel('Number of Ions, N')\n",
    "plt.ylabel('Minimum Ion Separation\\n(scaled units)')\n",
    "plt.xlim(0,50)\n",
    "plt.ylim(0,1.2);"
   ]
  },
  {
   "attachments": {},
   "cell_type": "markdown",
   "id": "accomplished-mercy",
   "metadata": {
    "ExecuteTime": {
     "end_time": "2021-02-26T02:17:15.851863Z",
     "start_time": "2021-02-26T02:17:15.828061Z"
    }
   },
   "source": [
    "## Table 2\n",
    "Numerically determined eigenvalues and eigenvectors of the matrix $A_{nm}$ for 2 to 6 ions.\n",
    "![Table 2](images/dfjames_table2_excerpt.png)\n",
    "The eigenvalues are normalized, and the matrix $A_{nm}$ is defined as\n",
    "$$\n",
    "A_{nm} = \n",
    "\\begin{cases}\n",
    "1 + 2\\sum_{p=1,p\\not=m}^N \\frac{1}{\\left|u_m - u_p\\right|^3} & \\text{if } n=m, \\\\\n",
    "\\frac{-2}{\\left|u_m - u_n\\right|^3} & \\text{if } n \\not=m.\n",
    "\\end{cases}\n",
    "$$"
   ]
  },
  {
   "cell_type": "code",
   "execution_count": 5,
   "id": "piano-helmet",
   "metadata": {
    "ExecuteTime": {
     "end_time": "2021-03-29T15:49:03.842796Z",
     "start_time": "2021-03-29T15:49:03.358693Z"
    }
   },
   "outputs": [
    {
     "name": "stdout",
     "output_type": "stream",
     "text": [
      "      Eigenvalue  Eigenvector\n",
      "N=2      1.0      [0.7071 0.7071]\n",
      "         3.0      [ 0.7071 -0.7071]\n",
      "\n",
      "\n",
      "N=3      1.0      [0.5774 0.5774 0.5774]\n",
      "         3.0      [ 0.7071  0.     -0.7071]\n",
      "         5.8      [-0.4082  0.8165 -0.4082]\n",
      "\n",
      "\n",
      "N=4      1.0      [0.5 0.5 0.5 0.5]\n",
      "         3.0      [-0.6742 -0.2132  0.2132  0.6742]\n",
      "        5.81      [ 0.5 -0.5 -0.5  0.5]\n",
      "       9.308      [-0.2132  0.6742 -0.6742  0.2132]\n",
      "\n",
      "\n",
      "N=5      1.0      [0.4472 0.4472 0.4472 0.4472 0.4472]\n",
      "         3.0      [-0.6395 -0.3017  0.      0.3017  0.6395]\n",
      "       5.818      [-0.5377  0.2805  0.5143  0.2805 -0.5377]\n",
      "       9.332      [-0.3017  0.6395 -0.     -0.6395  0.3017]\n",
      "      13.475      [ 0.1045 -0.4704  0.7318 -0.4704  0.1045]\n",
      "\n",
      "\n",
      "N=6      1.0      [0.4082 0.4082 0.4082 0.4082 0.4082 0.4082]\n",
      "         3.0      [-0.608  -0.3433 -0.1118  0.1118  0.3433  0.608 ]\n",
      "       5.824      [ 0.5531 -0.1332 -0.4199 -0.4199 -0.1332  0.5531]\n",
      "       9.352      [ 0.3577 -0.5431 -0.2778  0.2778  0.5431 -0.3577]\n",
      "      13.514      [-0.1655  0.5618 -0.3963 -0.3963  0.5618 -0.1655]\n",
      "      18.266      [ 0.049  -0.2954  0.6406 -0.6406  0.2954 -0.049 ]\n",
      "\n",
      "\n"
     ]
    }
   ],
   "source": [
    "ex = example(u)\n",
    "print(f'{\"\":<6}{\"Eigenvalue\":6}  {\"Eigenvector\"}')\n",
    "for N in range(2,7):\n",
    "    ex.m = m * np.ones(N)\n",
    "    ex.x0 = init.string(ex, dx=l)\n",
    "    f, b = ex.normal_modes()\n",
    "    μ = np.around(((2*π*f/ωx)**2).to('dimensionless').m,4)\n",
    "\n",
    "    for i in range(N):\n",
    "        print(f'{\"N=\"+str(N) if i==0 else \"\":<6}{np.around(μ[i],3):=6}      {np.around(b[0,:,i],4)}')\n",
    "    print('\\n')"
   ]
  }
 ],
 "metadata": {
  "kernelspec": {
   "display_name": "Python 3",
   "language": "python",
   "name": "python3"
  },
  "language_info": {
   "codemirror_mode": {
    "name": "ipython",
    "version": 3
   },
   "file_extension": ".py",
   "mimetype": "text/x-python",
   "name": "python",
   "nbconvert_exporter": "python",
   "pygments_lexer": "ipython3",
   "version": "3.8.5"
  }
 },
 "nbformat": 4,
 "nbformat_minor": 5
}
